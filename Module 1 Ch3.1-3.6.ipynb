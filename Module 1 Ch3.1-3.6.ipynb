{
 "cells": [
  {
   "cell_type": "code",
   "execution_count": 1,
   "id": "0fc508d1-54df-47c3-be87-9db8184e83b1",
   "metadata": {},
   "outputs": [
    {
     "data": {
      "text/plain": [
       "3600"
      ]
     },
     "execution_count": 1,
     "metadata": {},
     "output_type": "execute_result"
    }
   ],
   "source": [
    "60 * 60"
   ]
  },
  {
   "cell_type": "code",
   "execution_count": 5,
   "id": "8b00d408-6273-4a7a-8b11-6f49d6708f52",
   "metadata": {},
   "outputs": [
    {
     "data": {
      "text/plain": [
       "86400"
      ]
     },
     "execution_count": 5,
     "metadata": {},
     "output_type": "execute_result"
    }
   ],
   "source": [
    "seconds_per_hour = 3600\n",
    "seconds_per_hour * 24"
   ]
  },
  {
   "cell_type": "code",
   "execution_count": 7,
   "id": "772fd6c9-0f67-4e7c-b3c1-0dbeaa1d7c2b",
   "metadata": {},
   "outputs": [],
   "source": [
    "seconds_per_day = seconds_per_hour * 24"
   ]
  },
  {
   "cell_type": "code",
   "execution_count": 8,
   "id": "959f00c2-4af5-4c29-a618-c15ed538f93a",
   "metadata": {},
   "outputs": [
    {
     "data": {
      "text/plain": [
       "24.0"
      ]
     },
     "execution_count": 8,
     "metadata": {},
     "output_type": "execute_result"
    }
   ],
   "source": [
    "seconds_per_day / seconds_per_hour"
   ]
  },
  {
   "cell_type": "code",
   "execution_count": 9,
   "id": "ac3d2690-fb31-4818-9487-d24d9b178fe0",
   "metadata": {
    "scrolled": true
   },
   "outputs": [
    {
     "data": {
      "text/plain": [
       "24"
      ]
     },
     "execution_count": 9,
     "metadata": {},
     "output_type": "execute_result"
    }
   ],
   "source": [
    "seconds_per_day // seconds_per_hour"
   ]
  },
  {
   "cell_type": "code",
   "execution_count": 11,
   "id": "0bb2160f-0f7d-4e6e-8ed0-df9836f2e59b",
   "metadata": {},
   "outputs": [
    {
     "name": "stdout",
     "output_type": "stream",
     "text": [
      "Yes it does agree.\n"
     ]
    }
   ],
   "source": [
    "print(\"Yes it does agree.\")"
   ]
  }
 ],
 "metadata": {
  "kernelspec": {
   "display_name": "Python [conda env:base] *",
   "language": "python",
   "name": "conda-base-py"
  },
  "language_info": {
   "codemirror_mode": {
    "name": "ipython",
    "version": 3
   },
   "file_extension": ".py",
   "mimetype": "text/x-python",
   "name": "python",
   "nbconvert_exporter": "python",
   "pygments_lexer": "ipython3",
   "version": "3.13.5"
  }
 },
 "nbformat": 4,
 "nbformat_minor": 5
}
